{
 "cells": [
  {
   "cell_type": "markdown",
   "metadata": {},
   "source": [
    "# Learning a Communication Channel\n",
    "\n",
    "When using non-adaptive FPGA ensembles (i.e., the `learning_rate` is set to 0), the ensemble's decoded output function can be defined by providing the `FpgaPesEnsembleNetwork` constructor with the `function` keyword (e.g., `function=lambda t: sin(t)`). Adaptive (learning) FPGA ensembles augment this feature by allowing the use of error-driving learning to compute these function in an \"online\" manner."
   ]
  },
  {
   "cell_type": "markdown",
   "metadata": {},
   "source": [
    "## Step 1: Set up the Python Imports"
   ]
  },
  {
   "cell_type": "code",
   "execution_count": 1,
   "metadata": {},
   "outputs": [],
   "source": [
    "%matplotlib inline\n",
    "import matplotlib.pyplot as plt\n",
    "import numpy as np\n",
    "import time\n",
    "\n",
    "import nengo\n",
    "from nengo.processes import WhiteSignal\n",
    "from nengo.solvers import NoSolver\n",
    "\n",
    "import nengo_fpga\n",
    "from nengo_fpga.networks import FpgaPesEnsembleNetwork"
   ]
  },
  {
   "cell_type": "code",
   "execution_count": 2,
   "metadata": {},
   "outputs": [],
   "source": [
    "def make_native_model(n_neurons, dimensions=1, \n",
    "                      neuron_type=nengo.neurons.RectifiedLinear(), \n",
    "                      seed=1):\n",
    "    model = nengo.Network(seed=seed)\n",
    "    \n",
    "    with model:\n",
    "        # White-noise reference signal\n",
    "        input_node = nengo.Node(WhiteSignal(60, high=5),\n",
    "                                size_out=dimensions)\n",
    "        output_node = nengo.Node(size_in=dimensions)\n",
    "            \n",
    "        ens = nengo.Ensemble(n_neurons, dimensions=dimensions, \n",
    "                             neuron_type=neuron_type)\n",
    "        nengo.Connection(input_node, ens)\n",
    "        conn = nengo.Connection(\n",
    "            ens.neurons, output_node, \n",
    "            transform=np.random.random((dimensions, n_neurons)))\n",
    "        conn.learning_rule_type = nengo.PES(learning_rate=5e-5)\n",
    "        \n",
    "        error = nengo.Node(size_in=dimensions)\n",
    "        nengo.Connection(output_node, error)\n",
    "        nengo.Connection(input_node, error, transform=-1)\n",
    "        nengo.Connection(error, conn.learning_rule)\n",
    "    \n",
    "    return model"
   ]
  },
  {
   "cell_type": "code",
   "execution_count": 3,
   "metadata": {},
   "outputs": [],
   "source": [
    "def make_fpga_model(n_neurons, dimensions=1, board='de1', \n",
    "                    neuron_type=nengo.neurons.RectifiedLinear(), seed=1):\n",
    "    # Create a nengo network object to which we can add\n",
    "    # ensembles, connections, etc.\n",
    "    model = nengo.Network(seed=seed)\n",
    "\n",
    "    with model:\n",
    "        # White-noise reference signal\n",
    "        input_node = nengo.Node(WhiteSignal(60, high=5),\n",
    "                                size_out=dimensions)\n",
    "\n",
    "        # Remote FPGA neural ensemble\n",
    "        fpga_ens = FpgaPesEnsembleNetwork(\n",
    "            board, # The board to use (from above)\n",
    "            n_neurons=n_neurons, # The number of neurons to use in the ensemble\n",
    "            # Number of dimensions for the ensemble to represent\n",
    "            dimensions=dimensions,\n",
    "            learning_rate=5e-5\n",
    "        )\n",
    "\n",
    "        fpga_ens.ensemble.neuron_type = neuron_type\n",
    "        fpga_ens.connection.solver = NoSolver(\n",
    "            np.random.random((n_neurons, dimensions)))\n",
    "\n",
    "        # Connect the input to the FPGA ensemble\n",
    "        nengo.Connection(input_node, fpga_ens.input)\n",
    "\n",
    "        # Create a Nengo node to calculate the error signal\n",
    "        error = nengo.Node(size_in=dimensions)\n",
    "\n",
    "        # Compute the error (error = actual - target) using transforms\n",
    "        # on the connections to the error ensemble\n",
    "        nengo.Connection(fpga_ens.output, error)\n",
    "        nengo.Connection(input_node, error, transform=-1)\n",
    "\n",
    "        # Project error to the adaptive neural ensemble on the FPGA\n",
    "        nengo.Connection(error, fpga_ens.error)\n",
    "    return model"
   ]
  },
  {
   "cell_type": "code",
   "execution_count": 7,
   "metadata": {},
   "outputs": [
    {
     "name": "stdout",
     "output_type": "stream",
     "text": [
      ">> CREATE FPGA n_neurons=100\n",
      ">> RUNNING FPGA n_neurons=100\n",
      ">> CREATE NATIVE n_neurons=100\n",
      ">> RUNNING NATIVE n_neurons=100\n",
      ">> TAKING 10\n",
      "<< NEXT\n",
      ">> CREATE FPGA n_neurons=500\n",
      ">> RUNNING FPGA n_neurons=500\n",
      ">> CREATE NATIVE n_neurons=500\n",
      ">> RUNNING NATIVE n_neurons=500\n",
      ">> TAKING 10\n",
      "<< NEXT\n",
      ">> CREATE FPGA n_neurons=1000\n",
      ">> RUNNING FPGA n_neurons=1000\n",
      ">> CREATE NATIVE n_neurons=1000\n",
      ">> RUNNING NATIVE n_neurons=1000\n",
      ">> TAKING 10\n",
      "<< NEXT\n",
      ">> CREATE FPGA n_neurons=5000\n",
      ">> RUNNING FPGA n_neurons=5000\n",
      ">> CREATE NATIVE n_neurons=5000\n",
      ">> RUNNING NATIVE n_neurons=5000\n",
      ">> TAKING 10\n",
      "<< NEXT\n",
      ">> CREATE FPGA n_neurons=10000\n",
      ">> RUNNING FPGA n_neurons=10000\n",
      ">> CREATE NATIVE n_neurons=10000\n",
      ">> RUNNING NATIVE n_neurons=10000\n",
      ">> TAKING 10\n",
      "<< NEXT\n",
      ">> CREATE FPGA n_neurons=15000\n",
      ">> RUNNING FPGA n_neurons=15000\n",
      ">> CREATE NATIVE n_neurons=15000\n",
      ">> RUNNING NATIVE n_neurons=15000\n",
      ">> TAKING 10\n",
      "<< NEXT\n"
     ]
    }
   ],
   "source": [
    "# nengo.utils.logging.log('info')\n",
    "\n",
    "times_fpga = []\n",
    "times_native = []\n",
    "\n",
    "dimensions = 1\n",
    "n_neuron_list = [100, 500, 1000, 5000, 10000, 15000]\n",
    "# dimensions = 8\n",
    "# n_neuron_list = [100, 500, 1000, 2000]\n",
    "# neuron_type = nengo.neurons.SpikingRectifiedLinear()\n",
    "\n",
    "for n_neurons in n_neuron_list:\n",
    "    print(\">> CREATE FPGA n_neurons=%i\" % n_neurons)\n",
    "    model = make_fpga_model(n_neurons, board='de1',\n",
    "                            dimensions=dimensions,\n",
    "                            neuron_type=neuron_type)\n",
    "    sim_fpga = nengo_fpga.Simulator(model)\n",
    "    print(\">> RUNNING FPGA n_neurons=%i\" % n_neurons)\n",
    "    t_start_fpga = time.time()\n",
    "    sim_fpga.run(10)\n",
    "    t_end_fpga = time.time()\n",
    "    times_fpga.append(t_end_fpga - t_start_fpga)\n",
    "    \n",
    "    print(\">> CREATE NATIVE n_neurons=%i\" % n_neurons)\n",
    "    model = make_native_model(n_neurons,\n",
    "                              dimensions=dimensions,\n",
    "                              neuron_type=neuron_type)\n",
    "    sim_native = nengo.Simulator(model)\n",
    "    print(\">> RUNNING NATIVE n_neurons=%i\" % n_neurons)\n",
    "    t_start_native = time.time()\n",
    "    sim_native.run(10)\n",
    "    t_end_native = time.time()\n",
    "    times_native.append(t_end_native - t_start_native)\n",
    "    \n",
    "    print(\">> TAKING 10\")\n",
    "    time.sleep(20)\n",
    "    print(\"<< NEXT\")"
   ]
  },
  {
   "cell_type": "code",
   "execution_count": 8,
   "metadata": {},
   "outputs": [
    {
     "name": "stdout",
     "output_type": "stream",
     "text": [
      "[16.053556203842163, 14.857270956039429, 15.28602647781372, 15.035904884338379, 14.617046356201172, 15.124614953994751]\n",
      "[1.8270559310913086, 1.9985826015472412, 2.0909831523895264, 4.19295334815979, 7.673001289367676, 11.380320072174072]\n"
     ]
    }
   ],
   "source": [
    "print(times_fpga)\n",
    "print(times_native)"
   ]
  },
  {
   "cell_type": "code",
   "execution_count": null,
   "metadata": {},
   "outputs": [],
   "source": [
    "# Plot figure\n",
    "plt.figure(figsize=(16, 8))\n",
    "plt.plot(sim.trange(), sim.data[input_p], c='k', label='Input')\n",
    "plt.plot(sim.trange(), sim.data[output_p], c='r', label='FPGA Output')\n",
    "plt.ylim(-1.5, 1.5)\n",
    "plt.legend(loc='upper right')\n",
    "plt.xlabel(\"Sim time (s)\")\n",
    "plt.title(\"Random Initialization Without Learning\");"
   ]
  }
 ],
 "metadata": {
  "anaconda-cloud": {},
  "kernelspec": {
   "display_name": "Python 3",
   "language": "python",
   "name": "python3"
  },
  "language_info": {
   "codemirror_mode": {
    "name": "ipython",
    "version": 3
   },
   "file_extension": ".py",
   "mimetype": "text/x-python",
   "name": "python",
   "nbconvert_exporter": "python",
   "pygments_lexer": "ipython3",
   "version": "3.6.8"
  }
 },
 "nbformat": 4,
 "nbformat_minor": 2
}
