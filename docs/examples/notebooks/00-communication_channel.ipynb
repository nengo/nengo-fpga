{
 "cells": [
  {
   "cell_type": "markdown",
   "metadata": {},
   "source": [
    "# Communication Channel\n",
    "\n",
    "This example demonstrates how to create\n",
    "a connection from one neuronal ensemble to another\n",
    "that behaves like a communication channel\n",
    "(that is, it transmits information without changing it).\n",
    "\n",
    "Network diagram:\n",
    "\n",
    "      [Input] ---> (FPGA input) ---> (FPGA output)\n",
    "\n",
    "An abstract input signal is fed into\n",
    "the neuronal ensemble which is built remotely on the FPGA.\n",
    "The ensemble on the FPGA passes takes the input and passes\n",
    "this value across the neurons to the output.\n",
    "The result is that activity in the output ensemble\n",
    "encodes the value from the input."
   ]
  },
  {
   "cell_type": "code",
   "execution_count": null,
   "metadata": {
    "collapsed": true
   },
   "outputs": [],
   "source": [
    "%matplotlib inline\n",
    "import matplotlib.pyplot as plt\n",
    "import numpy as np\n",
    "\n",
    "import nengo\n",
    "\n",
    "import nengo_fpga\n",
    "from nengo_fpga.networks import FpgaPesEnsembleNetwork"
   ]
  },
  {
   "cell_type": "markdown",
   "metadata": {},
   "source": [
    "## Step 1: Choose a Device\n",
    "\n",
    "Select the FPGA device on which you wish to run the remote\n",
    "`FpgaPesEnsembleNetwork`. This name corresponds with the name\n",
    "in your `fpga_config` file. Recall the device name\n",
    "is the name in square brackets which precedes the\n",
    "settings, for example, **[de1]** or **[pynq]**."
   ]
  },
  {
   "cell_type": "code",
   "execution_count": null,
   "metadata": {
    "collapsed": true
   },
   "outputs": [],
   "source": [
    "board = 'de1'  # Change this to your desired device name"
   ]
  },
  {
   "cell_type": "markdown",
   "metadata": {},
   "source": [
    "## Step 2: Create the Network\n",
    "\n",
    "We will build a network that receives a 2-dimensional input.\n",
    "First let's define the input function we want to pass to the network."
   ]
  },
  {
   "cell_type": "code",
   "execution_count": null,
   "metadata": {
    "collapsed": true
   },
   "outputs": [],
   "source": [
    "def input_func(t):\n",
    "    return [np.sin(t * 2*np.pi), np.cos(t * 2*np.pi)]"
   ]
  },
  {
   "cell_type": "markdown",
   "metadata": {},
   "source": [
    "Now we can create the rest of the network."
   ]
  },
  {
   "cell_type": "code",
   "execution_count": null,
   "metadata": {
    "collapsed": true
   },
   "outputs": [],
   "source": [
    "# Create a 'model' object to which we can add\n",
    "# ensembles, connections, etc.\n",
    "model = nengo.Network(label=\"Communication Channel\")\n",
    "with model:\n",
    "    # Arbitrary reference signal defined above\n",
    "    input_node = nengo.Node(input_func, label='input signal')\n",
    "\n",
    "    # FPGA neural ensemble\n",
    "    fpga_ens = FpgaPesEnsembleNetwork(\n",
    "        board, n_neurons=50, dimensions=2, learning_rate=0,\n",
    "        label=\"FPGA ensemble\")\n",
    "    \n",
    "    # Uncomment the following line to use spiking neuron\n",
    "    # fpga_ens.ensemble.neuron_type = nengo.SpikingRectifiedLinear()\n",
    "    \n",
    "    # Connect the input to the FPGA ensemble\n",
    "    # (the FPGA input is automatically passed to the output,\n",
    "    # no need for an explicit connection)\n",
    "    nengo.Connection(input_node, fpga_ens.input)"
   ]
  },
  {
   "cell_type": "markdown",
   "metadata": {},
   "source": [
    "## Step 3: Add Probes to Collect Data\n",
    "\n",
    "Even this simple model involves many quantities\n",
    "that change over time, such as membrane potentials of individual neurons.\n",
    "Typically there are so many variables in a simulation\n",
    "that it is not practical to store them all.\n",
    "If we want to plot or analyze data from the simulation\n",
    "we have to \"probe\" the signals of interest.\n",
    "\n",
    "Many of the internal dynamics of the FPGA ensemble are not \n",
    "probeable since collecting and transmitting all of these values\n",
    "would slow down the simulation considerably. However,\n",
    "we still have access to the input and output activity which\n",
    "is enough to illustrate the network functionality."
   ]
  },
  {
   "cell_type": "code",
   "execution_count": null,
   "metadata": {
    "collapsed": true
   },
   "outputs": [],
   "source": [
    "with model:\n",
    "    input_p = nengo.Probe(input_node, synapse=0.01)\n",
    "    output_p = nengo.Probe(fpga_ens.output, synapse=0.01)"
   ]
  },
  {
   "cell_type": "markdown",
   "metadata": {},
   "source": [
    "## Step 4: Run the Model!\n",
    "\n",
    "Here we simply switch out the standard `nengo.Simulator`\n",
    "for the `nengo_fpga.simulator`"
   ]
  },
  {
   "cell_type": "code",
   "execution_count": null,
   "metadata": {
    "collapsed": true
   },
   "outputs": [],
   "source": [
    "with nengo_fpga.Simulator(model) as sim:\n",
    "    sim.run(2)  # Run for 2 seconds"
   ]
  },
  {
   "cell_type": "markdown",
   "metadata": {},
   "source": [
    "## Step 5: Plot the Results"
   ]
  },
  {
   "cell_type": "code",
   "execution_count": null,
   "metadata": {
    "collapsed": true
   },
   "outputs": [],
   "source": [
    "plt.figure(figsize=(16, 4))\n",
    "plt.subplot(1, 2, 1)\n",
    "plt.title(\"Input\")\n",
    "plt.plot(sim.trange(), sim.data[input_p])\n",
    "plt.ylim(-1.1, 1.1)\n",
    "plt.legend((\"Input[0]\", \"Input[1]\"), loc='best')\n",
    "plt.subplot(1, 2, 2)\n",
    "plt.title(\"FPGA Output\")\n",
    "plt.plot(sim.trange(), sim.data[output_p])\n",
    "plt.ylim(-1.1, 1.1)\n",
    "plt.legend((\"Input[0]\", \"Input[1]\"), loc='best');"
   ]
  },
  {
   "cell_type": "markdown",
   "metadata": {},
   "source": [
    "These plots show the reference input signal on the left and\n",
    "the reconstruction of this signal decoded from the neuron activity\n",
    "of the FPGA ensemble on the right.\n",
    "\n",
    "## Step 6: Experiment with this Model\n",
    "\n",
    "### Input Function\n",
    "\n",
    "Try changing the input function above. As long as the function\n",
    "outputs a 2-dimensional value the model should work but\n",
    "you may see the reconstructed signal deteriorate as the\n",
    "range and frequency of your input function increase.\n",
    "\n",
    "### Neuron Type\n",
    "\n",
    "The default neuron type is Rectified Linear Units (ReLU).\n",
    "NengoFPGA also supports Spiking Rectified Linear units,\n",
    "also known as Integrate and Fire (IF) neurons.\n",
    "Try uncommenting the line noted in the model definition\n",
    "in Step 2 and rerunning the simulation."
   ]
  }
 ],

 "metadata": {
  "language_info": {
   "name": "python",
   "pygments_lexer": "ipython3"
  }
 },
 "nbformat": 4,
 "nbformat_minor": 2
}
