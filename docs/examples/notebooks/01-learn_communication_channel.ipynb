{
 "cells": [
  {
   "cell_type": "markdown",
   "metadata": {},
   "source": [
    "# Learning a Communication Channel\n",
    "\n",
    "Normally, if you have a function you would like to compute\n",
    "across a connection, you would specify it with `function=my_func`\n",
    "in the `FpgaPesEnsembleNetwork` constructor.\n",
    "However, it is also possible to use error-driven learning\n",
    "to learn to compute a function online."
   ]
  },
  {
   "cell_type": "code",
   "execution_count": null,
   "metadata": {
    "collapsed": true
   },
   "outputs": [],
   "source": [
    "%matplotlib inline\n",
    "import matplotlib.pyplot as plt\n",
    "import numpy as np\n",
    "\n",
    "import nengo\n",
    "from nengo.processes import WhiteSignal\n",
    "\n",
    "import nengo_fpga\n",
    "from nengo_fpga.networks import FpgaPesEnsembleNetwork"
   ]
  },
  {
   "cell_type": "markdown",
   "metadata": {},
   "source": [
    "## Step 1: Choose a Device\n",
    "\n",
    "Select the FPGA device on which you wish to run the remote\n",
    "`FpgaPesEnsembleNetwork`. This name corresponds with the name\n",
    "in your `fpga_config` file. Recall the device name\n",
    "is the name in square brackets which precedes the\n",
    "settings, for example, **[de1]** or **[pynq]**."
   ]
  },
  {
   "cell_type": "code",
   "execution_count": null,
   "metadata": {
    "collapsed": true
   },
   "outputs": [],
   "source": [
    "board = 'de1'  # Change this to your desired device name"
   ]
  },
  {
   "cell_type": "markdown",
   "metadata": {},
   "source": [
    "## Step 2: Create the Network Without Learning\n",
    "\n",
    "We'll start by creating a connection between two populations\n",
    "that initially computes a very weird function."
   ]
  },
  {
   "cell_type": "code",
   "execution_count": null,
   "metadata": {
    "collapsed": true
   },
   "outputs": [],
   "source": [
    "# Create a 'model' object to which we can add\n",
    "# ensembles, connections, etc.\n",
    "model = nengo.Network(label=\"Learned Comm Channel\")\n",
    "with model:\n",
    "    # Arbitrary reference signal\n",
    "    input_node = nengo.Node(WhiteSignal(60, high=5), size_out=1)\n",
    "    \n",
    "    # FPGA neural ensemble\n",
    "    # (note that the learning_rate here does nothing\n",
    "    # without an error signal)\n",
    "    fpga_ens = FpgaPesEnsembleNetwork(\n",
    "        board, n_neurons=60, dimensions=1, learning_rate=5e-5,\n",
    "        label=\"FPGA ensemble\",\n",
    "        function=lambda x: np.random.random(1))\n",
    "    \n",
    "    # Connect the input to the FPGA ensemble\n",
    "    # (the FPGA input is automatically passed to the output,\n",
    "    # no need for an explicit connection)\n",
    "    nengo.Connection(input_node, fpga_ens.input)\n",
    "    \n",
    "    # Add probes\n",
    "    input_p = nengo.Probe(input_node, synapse=0.01)\n",
    "    output_p = nengo.Probe(fpga_ens.output, synapse=0.01)"
   ]
  },
  {
   "cell_type": "markdown",
   "metadata": {},
   "source": [
    "If we run this model as is, we can see that the FPGA ensemble does not compute a useful value."
   ]
  },
  {
   "cell_type": "code",
   "execution_count": null,
   "metadata": {
    "collapsed": true
   },
   "outputs": [],
   "source": [
    "with nengo_fpga.Simulator(model) as sim:\n",
    "    sim.run(10)"
   ]
  },
  {
   "cell_type": "code",
   "execution_count": null,
   "metadata": {
    "collapsed": true
   },
   "outputs": [],
   "source": [
    "plt.figure(figsize=(16, 9))\n",
    "plt.plot(sim.trange(), sim.data[input_p], c='k', label='Input')\n",
    "plt.plot(sim.trange(), sim.data[output_p], c='r',\n",
    "         label='FPGA Output')\n",
    "plt.ylim(-1.5, 1.5)\n",
    "plt.legend(loc='best')\n",
    "plt.xlabel(\"Sim time\")\n",
    "plt.title(\"Random Initialization Without Learning\");"
   ]
  },
  {
   "cell_type": "markdown",
   "metadata": {},
   "source": [
    "## Step 3: Add Learning\n",
    "\n",
    "If we can generate an error signal, then we can minimize\n",
    "that error signal using the `nengo.PES` learning rule\n",
    "that is built into the `FpgaPesEnsembleNetwork`.\n",
    "Since it's a communication channel, we know the value that we want,\n",
    "so we can compute the error with another ensemble."
   ]
  },
  {
   "cell_type": "code",
   "execution_count": null,
   "metadata": {
    "collapsed": true
   },
   "outputs": [],
   "source": [
    "with model:\n",
    "    # Ensemble to calculate error\n",
    "    error = nengo.Ensemble(60, dimensions=1)\n",
    "    error_p = nengo.Probe(error, synapse=0.03)\n",
    "\n",
    "    # Compute the error (error = actual - target = post - pre)\n",
    "    # In this case we are learning the square of the input\n",
    "    nengo.Connection(fpga_ens.output, error)\n",
    "    nengo.Connection(input_node, error, transform=-1)\n",
    "\n",
    "    # Project error to the adaptive neural ensemble on the FPGA\n",
    "    nengo.Connection(error, fpga_ens.error)"
   ]
  },
  {
   "cell_type": "markdown",
   "metadata": {},
   "source": [
    "Now, we can see that the adaptive FPGA ensemble gradually learns the communication channel."
   ]
  },
  {
   "cell_type": "code",
   "execution_count": null,
   "metadata": {
    "collapsed": true
   },
   "outputs": [],
   "source": [
    "with nengo_fpga.Simulator(model) as sim:\n",
    "    sim.run(10)"
   ]
  },
  {
   "cell_type": "code",
   "execution_count": null,
   "metadata": {
    "collapsed": true,
    "scrolled": false
   },
   "outputs": [],
   "source": [
    "plt.figure(figsize=(16, 9))\n",
    "plt.subplot(2, 1, 1)\n",
    "plt.plot(sim.trange(), sim.data[input_p], c='k', label='Input')\n",
    "plt.plot(sim.trange(), sim.data[output_p], c='r',\n",
    "         label='FPGA Output')\n",
    "plt.ylim(-1.5, 1.5)\n",
    "plt.legend(loc='best')\n",
    "plt.title(\"Random Initialization With Learning\")\n",
    "plt.subplot(2, 1, 2)\n",
    "plt.plot(sim.trange(), sim.data[error_p], c='b', label=\"Error\")\n",
    "plt.ylim(-1, 1)\n",
    "plt.xlabel(\"Sim time\")\n",
    "plt.legend(loc='best');"
   ]
  },
  {
   "cell_type": "markdown",
   "metadata": {},
   "source": [
    "## Does it generalize?\n",
    "\n",
    "If the learning rule is always working,\n",
    "the error will continue to be minimized.\n",
    "But have we actually generalized\n",
    "to be able to compute the communication channel\n",
    "without this error signal?\n",
    "Let's inhibit the `error` population after 10 seconds.\n",
    "We are forcing the neurons in the `error`\n",
    "population to output zero."
   ]
  },
  {
   "cell_type": "code",
   "execution_count": null,
   "metadata": {
    "collapsed": true
   },
   "outputs": [],
   "source": [
    "def inhibit(t):\n",
    "    return 2.0 if t > 10.0 else 0.0\n",
    "\n",
    "with model:\n",
    "    inhib = nengo.Node(inhibit)\n",
    "    nengo.Connection(inhib, error.neurons,\n",
    "                     transform=[[-1]] * error.n_neurons)"
   ]
  },
  {
   "cell_type": "code",
   "execution_count": null,
   "metadata": {
    "collapsed": true
   },
   "outputs": [],
   "source": [
    "with nengo_fpga.Simulator(model) as sim:\n",
    "    sim.run(16)"
   ]
  },
  {
   "cell_type": "code",
   "execution_count": null,
   "metadata": {
    "collapsed": true
   },
   "outputs": [],
   "source": [
    "plt.figure(figsize=(16, 9))\n",
    "plt.subplot(2, 1, 1)\n",
    "plt.plot(sim.trange(), sim.data[input_p], c='k', label='Input')\n",
    "plt.plot(sim.trange(), sim.data[output_p], c='r',\n",
    "         label='FPGA Output')\n",
    "plt.ylim(-1.5, 1.5)\n",
    "plt.legend(loc='best')\n",
    "plt.title(\"Random Initialization With Learning\")\n",
    "plt.subplot(2, 1, 2)\n",
    "plt.plot(sim.trange(), sim.data[error_p], c='b', label=\"Error\")\n",
    "plt.ylim(-1, 1)\n",
    "plt.xlabel(\"Sim time\")\n",
    "plt.legend(loc='best');"
   ]
  },
  {
   "cell_type": "markdown",
   "metadata": {},
   "source": [
    "## How Does This Work?\n",
    "\n",
    "Since many of the internal dynamics of the FPGA ensemble\n",
    "are not probable (for performance's sake), it is difficult\n",
    "to explore the details of the implementation here.\n",
    "Take a look at the [learn_communication_channel](https://www.nengo.ai/nengo/examples/learning/learn_communication_channel.html#How-does-this-work?)\n",
    "example built with standard Nengo for an explanation of the\n",
    "learning rule and how the connection weights change."
   ]
  }
 ],
 "metadata": {
  "language_info": {
   "name": "python",
   "pygments_lexer": "ipython3"
  }
 },
 "nbformat": 4,
 "nbformat_minor": 2
}
